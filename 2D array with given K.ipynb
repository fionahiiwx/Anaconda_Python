{
 "cells": [
  {
   "cell_type": "code",
   "execution_count": null,
   "metadata": {},
   "outputs": [],
   "source": [
    "# Given a list [5, 11, 3, 50, 60 ,90]\n",
    "# k = 2 (perform 2 transaction)\n",
    "# 1 buy or sell each time and can only hold one thing\n",
    "# max is 93 (-5+11-3+90)\n",
    "# for/in & call out function at the end\n",
    "\n",
    "#tips: variable = float(\"-inf\")\n",
    "#go search what's that\n",
    "\n",
    "# O of nk time, O of nk space\n",
    "def max_profit_with_k(prices, k):\n",
    "    if not len(prices):\n",
    "        return 0\n",
    "    profits = [[0 for d in prices] for t in range(k+1)]\n",
    "    for t in range(1, k+1):\n",
    "        max_thus_far = float(\"-inf\")\n",
    "        for d in range(1, len(prices)):\n",
    "            max_thus_far = max(max_thus_far, profits[t-1][d-1] - prices[d-1])\n",
    "            profits[t][d] = max(profits[t][d-1], max_thus_far + prices[d]) # as we're storing aand kept updating it, in the line above. So, it's just a \n",
    "    return profits[-1][-1]\n",
    "\n",
    "print(max_profit_with_k([5, 11, 3, 50, 60, 90], 2))"
   ]
  },
  {
   "cell_type": "code",
   "execution_count": null,
   "metadata": {},
   "outputs": [],
   "source": [
    "def max_profit_with_k(prices, k):\n",
    "    if not len(prices):\n",
    "        return 0\n",
    "    profits = [[0 for d in prices] for t in range(k+1)]\n",
    "    for t in range(1, k+1):\n",
    "        max_thus_far = float(\"-inf\")\n",
    "        for d in range(1, len(prices)):\n",
    "            print(\"d = {}\".format(d))\n",
    "            print(\"max_thus_far{}\".format(max_thus_far))\n",
    "            max_thus_far = max(max_thus_far, profits[t-1][d-1] - prices[d-1])\n",
    "            profits[t][d] = max(profits[t][d-1], max_thus_far + prices[d]) # as we're storing aand kept updating it, in the line above. So, it's just a \n",
    "            print(profits)\n",
    "    return profits[-1][-1]\n",
    "\n",
    "print(max_profit_with_k([5, 11, 3, 50, 60, 90], 2))"
   ]
  },
  {
   "cell_type": "code",
   "execution_count": 2,
   "metadata": {},
   "outputs": [
    {
     "name": "stdout",
     "output_type": "stream",
     "text": [
      "93\n"
     ]
    }
   ],
   "source": [
    "# O of nk time, O of n space\n",
    "def max_profit_with_k(prices, k):\n",
    "    if not len(prices): # replace list profits to the array with just 2 rows, 2 1-dimensional arrays(evenProf = 0 for d in prices and oddProf = 0 for d in prices)\n",
    "        return 0\n",
    "    evenProf = [0 for d in prices]\n",
    "    oddProf = [0 for d in prices]\n",
    "    for t in range(1, k+1):\n",
    "        maxThusFar = float(\"-inf\")\n",
    "        if (t % 2 == 1):\n",
    "            currentProf = oddProf # currentProf = represents the profit of t\n",
    "            previousProf = evenProf # previousProf = represents 1 row above\n",
    "        else:\n",
    "            currentProf = evenProf\n",
    "            previousProf = oddProf\n",
    "        for d in range(1, len(prices)):\n",
    "            maxThusFar = max(maxThusFar, previousProf[d-1] - prices[d-1])\n",
    "            currentProf[d] = max(currentProf[d-1], maxThusFar + prices[d])\n",
    "    return evenProf[-1] if k % 2 == 0 else oddProf[-1] # if num of transactions that we're given is even, \n",
    "#that means our final row is the even profits and will return the final value of that, \n",
    "#otherwise we return the value in oddProf\n",
    "\n",
    "print(max_profit_with_k([5, 11, 3, 50, 60, 90], 2))"
   ]
  },
  {
   "cell_type": "code",
   "execution_count": null,
   "metadata": {},
   "outputs": [],
   "source": []
  },
  {
   "cell_type": "code",
   "execution_count": null,
   "metadata": {},
   "outputs": [],
   "source": []
  }
 ],
 "metadata": {
  "kernelspec": {
   "display_name": "Python 3",
   "language": "python",
   "name": "python3"
  },
  "language_info": {
   "codemirror_mode": {
    "name": "ipython",
    "version": 3
   },
   "file_extension": ".py",
   "mimetype": "text/x-python",
   "name": "python",
   "nbconvert_exporter": "python",
   "pygments_lexer": "ipython3",
   "version": "3.7.6"
  }
 },
 "nbformat": 4,
 "nbformat_minor": 2
}
