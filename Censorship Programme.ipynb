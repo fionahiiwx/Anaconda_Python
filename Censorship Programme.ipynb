{
 "cells": [
  {
   "cell_type": "code",
   "execution_count": null,
   "metadata": {},
   "outputs": [],
   "source": [
    "#Censorship programme"
   ]
  },
  {
   "cell_type": "code",
   "execution_count": null,
   "metadata": {},
   "outputs": [],
   "source": [
    "# Need a function \n",
    "# Put parameter in def()\n",
    "# When calling out function, u put argument\n",
    "# use .split(), for/in (will be nested), if/in, .index(), .remove(), .insert(), .join(), call func"
   ]
  },
  {
   "cell_type": "code",
   "execution_count": 9,
   "metadata": {},
   "outputs": [
    {
     "name": "stdout",
     "output_type": "stream",
     "text": [
      "I **** you so go to ****\n"
     ]
    }
   ],
   "source": [
    "def censorship(sentence):\n",
    "    bad_words = \"bad hell ugly fat hate\".split()\n",
    "    sentence = sentence.split()\n",
    "    for bad_words_items in bad_words: \n",
    "        for sentence_item in sentence:\n",
    "            if bad_words_items in sentence_item:\n",
    "                point_of_start = sentence.index(sentence_item) #do you know why you're doing .index function?\n",
    "                sentence.remove(sentence_item)\n",
    "                sentence.insert(point_of_start, \"*\" * len(bad_words_items))#.index function should be used here! #reverse thinking: ###### [start:end]\n",
    "    print(\" \".join(sentence))\n",
    "    \n",
    "sentence = \"I hate you so go to hell\"\n",
    "censorship(sentence)"
   ]
  },
  {
   "cell_type": "code",
   "execution_count": 10,
   "metadata": {},
   "outputs": [
    {
     "name": "stdout",
     "output_type": "stream",
     "text": [
      "I hate you so go to hell\n",
      "bad hell ugly fat hate\n",
      "I **** you so go to ****\n"
     ]
    }
   ],
   "source": [
    "def censorship(sentence, bad_words):\n",
    "    bad_words = bad_words.split()\n",
    "    sentence = sentence.split()\n",
    "    for bad_words_items in bad_words: \n",
    "        for sentence_item in sentence:\n",
    "            if bad_words_items in sentence_item:\n",
    "                point_of_start = sentence.index(sentence_item) #do you know why you're doing .index function?\n",
    "                sentence.remove(sentence_item)\n",
    "                sentence.insert(point_of_start, \"*\" * len(bad_words_items))#.index function should be used here! #reverse thinking: ###### [start:end]\n",
    "    print(\" \".join(sentence))\n",
    "    \n",
    "sentence = input()\n",
    "bad_words = input()\n",
    "censorship(sentence, bad_words)"
   ]
  },
  {
   "cell_type": "code",
   "execution_count": null,
   "metadata": {},
   "outputs": [],
   "source": []
  },
  {
   "cell_type": "code",
   "execution_count": null,
   "metadata": {},
   "outputs": [],
   "source": [
    "#you will be getting an error telling you to put 2 positional arguments!"
   ]
  }
 ],
 "metadata": {
  "kernelspec": {
   "display_name": "Python 3",
   "language": "python",
   "name": "python3"
  },
  "language_info": {
   "codemirror_mode": {
    "name": "ipython",
    "version": 3
   },
   "file_extension": ".py",
   "mimetype": "text/x-python",
   "name": "python",
   "nbconvert_exporter": "python",
   "pygments_lexer": "ipython3",
   "version": "3.7.6"
  }
 },
 "nbformat": 4,
 "nbformat_minor": 4
}
