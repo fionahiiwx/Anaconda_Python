{
 "cells": [
  {
   "cell_type": "code",
   "execution_count": null,
   "metadata": {},
   "outputs": [],
   "source": [
    "y=2x-2"
   ]
  },
  {
   "cell_type": "code",
   "execution_count": null,
   "metadata": {},
   "outputs": [],
   "source": [
    "import sys\n",
    "!conda install --yes --prefix {sys.prefix} numpy"
   ]
  },
  {
   "cell_type": "code",
   "execution_count": 1,
   "metadata": {},
   "outputs": [],
   "source": [
    "import tensorflow as tf"
   ]
  },
  {
   "cell_type": "code",
   "execution_count": 2,
   "metadata": {},
   "outputs": [],
   "source": [
    "import numpy as np"
   ]
  },
  {
   "cell_type": "code",
   "execution_count": 3,
   "metadata": {},
   "outputs": [],
   "source": [
    "from tensorflow import keras"
   ]
  },
  {
   "cell_type": "code",
   "execution_count": 5,
   "metadata": {
    "scrolled": true
   },
   "outputs": [
    {
     "name": "stdout",
     "output_type": "stream",
     "text": [
      "Train on 6 samples\n",
      "Epoch 1/10\n",
      "6/6 [==============================] - 2s 272ms/sample - loss: 5.9712\n",
      "Epoch 2/10\n",
      "6/6 [==============================] - 0s 1ms/sample - loss: 5.2435\n",
      "Epoch 3/10\n",
      "6/6 [==============================] - 0s 1ms/sample - loss: 4.6596\n",
      "Epoch 4/10\n",
      "6/6 [==============================] - 0s 1ms/sample - loss: 4.1894\n",
      "Epoch 5/10\n",
      "6/6 [==============================] - 0s 1ms/sample - loss: 3.8086\n",
      "Epoch 6/10\n",
      "6/6 [==============================] - 0s 2ms/sample - loss: 3.4985\n",
      "Epoch 7/10\n",
      "6/6 [==============================] - 0s 1ms/sample - loss: 3.2443\n",
      "Epoch 8/10\n",
      "6/6 [==============================] - 0s 4ms/sample - loss: 3.0341\n",
      "Epoch 9/10\n",
      "6/6 [==============================] - 0s 1ms/sample - loss: 2.8589\n",
      "Epoch 10/10\n",
      "6/6 [==============================] - 0s 2ms/sample - loss: 2.7113\n",
      "[[11.321102]]\n"
     ]
    }
   ],
   "source": [
    "model = keras.Sequential([keras.layers.Dense(units = 1, input_shape = [1])])\n",
    "model.compile(optimizer = 'sgd', loss = 'mean_squared_error')\n",
    "xs = np.array([-1.0, 0.0, 1.0, 2.0, 3.0, 4.0], dtype = float)\n",
    "ys = np.array([-4.0, -2.0, 0.0, 2.0, 4.0, 6.0], dtype = float)\n",
    "model.fit(xs, ys, epochs = 10)\n",
    "print(model.predict([10.0]))"
   ]
  },
  {
   "cell_type": "code",
   "execution_count": null,
   "metadata": {},
   "outputs": [],
   "source": []
  },
  {
   "cell_type": "code",
   "execution_count": null,
   "metadata": {},
   "outputs": [],
   "source": []
  }
 ],
 "metadata": {
  "kernelspec": {
   "display_name": "Python 3",
   "language": "python",
   "name": "python3"
  },
  "language_info": {
   "codemirror_mode": {
    "name": "ipython",
    "version": 3
   },
   "file_extension": ".py",
   "mimetype": "text/x-python",
   "name": "python",
   "nbconvert_exporter": "python",
   "pygments_lexer": "ipython3",
   "version": "3.7.3"
  }
 },
 "nbformat": 4,
 "nbformat_minor": 4
}
