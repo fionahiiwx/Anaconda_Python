{
 "cells": [
  {
   "cell_type": "code",
   "execution_count": null,
   "metadata": {
    "scrolled": true
   },
   "outputs": [],
   "source": [
    "# Q1\n",
    "# You are given a list of non decreasing numbers.\n",
    "# YOur task is to find the minimum differences between any 2 numbers.\n",
    "# Input: numbers = [1, 5, 7, 10, 12]\n",
    "# Output: 2\n",
    "numbers = [1, 5, 7, 10, 12]\n",
    "minimum = numbers[1] - numbers[0]\n",
    "\n",
    "for x in range(1, len(numbers)):\n",
    "    minimum = min(minimum, numbers[x] - numbers[x-1])\n",
    "    \n",
    "print(minimum)"
   ]
  },
  {
   "cell_type": "code",
   "execution_count": null,
   "metadata": {},
   "outputs": [],
   "source": [
    "a = (1, 5, 3, 9)\n",
    "x = min(a)\n",
    "print(x)"
   ]
  },
  {
   "cell_type": "code",
   "execution_count": null,
   "metadata": {},
   "outputs": [],
   "source": []
  },
  {
   "cell_type": "code",
   "execution_count": null,
   "metadata": {},
   "outputs": [],
   "source": [
    "min([2, 4, 5, 7])"
   ]
  },
  {
   "cell_type": "code",
   "execution_count": null,
   "metadata": {},
   "outputs": [],
   "source": [
    "numbers = [1, 5, 7, 10, 12]\n",
    "minimum = numbers[1]-numbers[0]\n",
    "\n",
    "for i in range(1,len(numbers)):\n",
    "    minimum = min(minimum,numbers[i]-numbers[i-1])\n",
    "\n",
    "print(minimum)"
   ]
  },
  {
   "cell_type": "code",
   "execution_count": null,
   "metadata": {},
   "outputs": [],
   "source": [
    "# Q2\n",
    "# Multi Bake has a promotion.\n",
    "# When u buy 4 pieces of bread, the second cheapest one is free of charge.\n",
    "# U want to buy n pieces of bread (where n is multiple of 4) and are given the price of each bread u want to buy.\n",
    "# What is the minimum amount you have to pay to purchase all the bread.\n",
    "# input: you'll be given a list of numbers (prices) indicating the price of each bread u want to buy\n",
    "# it is guaranteed that the length of prices is a multiple of 4.\n",
    "# input sample: prices = 2 per [3, 2, 6, 8, 10, 1, 7, 9]\n",
    "# output: 35\n",
    "\n",
    "prices = [3, 2, 6, 8, 10, 1, 7, 9]\n",
    "prices.sort()\n",
    "ans = 0\n",
    "\n",
    "for i in range(len(prices)):\n",
    "    if not (i==2 or prices[i]==prices[-3]):\n",
    "        ans += prices[i]\n",
    "        \n",
    "print(ans)"
   ]
  },
  {
   "cell_type": "code",
   "execution_count": null,
   "metadata": {},
   "outputs": [],
   "source": [
    "# Q3\n",
    "# Bitcoin\n",
    "# You earn one bitcoin everyday.\n",
    "# You also know the future price of the bitcoin.\n",
    "# A bitcoin earned on that day can be sold on that day or in the future days.\n",
    "# You can sell any amount of bitcoin on any given day.\n",
    "# Your task is to compute the maximum amount of money you can earn by selling your bitcoins optimally.\n",
    "# input: prices = [3, 2, 6, 8, 10, 1, 7, 9]\n",
    "# output: 77\n",
    "# if u sell your first ur 1st to 5th bitcoin on the fifth day, you'll earn 5\\ times 10 = 50\n",
    "# the rest on the last day to earn 3/9 = 27 more\n",
    "# in total u'll earn 77\n",
    "\n",
    "prices = [3, 2, 6, 8, 10, 1, 7, 9]\n",
    "maximum = 0\n",
    "ans = 0\n",
    "\n",
    "for i in reversed(range(len(prices))):\n",
    "    maximum = max(maximum, prices[i])\n",
    "    ans += maximum\n",
    "    \n",
    "print(ans)"
   ]
  },
  {
   "cell_type": "code",
   "execution_count": null,
   "metadata": {},
   "outputs": [],
   "source": [
    "for i in reversed(range(10)):\n",
    "    print(i)"
   ]
  },
  {
   "cell_type": "code",
   "execution_count": 5,
   "metadata": {},
   "outputs": [
    {
     "name": "stdout",
     "output_type": "stream",
     "text": [
      "6\n"
     ]
    }
   ],
   "source": [
    "# Q4\n",
    "# A binary string is a string where each character is eiter 0 or 1.\n",
    "# Given a binary string and a number k, \n",
    "# find the length of longest consecutive 1's after removing atmost k 0's from the binary string.\n",
    "# U will be given a binary string and a number k.\n",
    "# Input sample: string = \"101111001110111\"\n",
    "# k = 1\n",
    "# output the length of the longest consecutive 1's after removing atmost k 0's.\n",
    "# sample output: 6\n",
    "# we can remove the 0 between the 2 \"111\" substring to get \"111111\" as a substring.\n",
    "# This is clearly the longest consecutive 1's we can get.\n",
    "\n",
    "string = list(\"101111001110111\")\n",
    "k = 1\n",
    "count = 0\n",
    "\n",
    "for i in reversed(range(len(string))):\n",
    "    if k > 0:\n",
    "        if string[i] == '0':\n",
    "            string.pop(i)\n",
    "            k -= 1\n",
    "    else:\n",
    "        break\n",
    "        \n",
    "for x in reversed(string):\n",
    "    if x == '1':\n",
    "        count += 1\n",
    "    else:\n",
    "        break\n",
    "        \n",
    "print(count)"
   ]
  },
  {
   "cell_type": "code",
   "execution_count": 23,
   "metadata": {},
   "outputs": [
    {
     "name": "stdout",
     "output_type": "stream",
     "text": [
      "6\n"
     ]
    }
   ],
   "source": [
    "string = list(\"101111001110111\")\n",
    "k = 1\n",
    "count = 0\n",
    "numbers = []\n",
    "\n",
    "for i in range(len(string)+1):\n",
    "    if k > -1:\n",
    "        if int(string[i-1]) == 0:\n",
    "            k -= 1\n",
    "        else:\n",
    "            count += 1\n",
    "    else:\n",
    "        numbers.append(count)\n",
    "        count = 0\n",
    "        break\n",
    "        \n",
    "print(max(numbers))"
   ]
  },
  {
   "cell_type": "code",
   "execution_count": null,
   "metadata": {},
   "outputs": [],
   "source": [
    "string = list(\"101111001110111\")\n",
    "k = 1\n",
    "count = 0\n",
    "numbers = []\n",
    "\n",
    "while k > -1:\n",
    "    for i in range(len(string)+1):\n",
    "        "
   ]
  },
  {
   "cell_type": "code",
   "execution_count": null,
   "metadata": {},
   "outputs": [],
   "source": []
  }
 ],
 "metadata": {
  "kernelspec": {
   "display_name": "Python 3",
   "language": "python",
   "name": "python3"
  },
  "language_info": {
   "codemirror_mode": {
    "name": "ipython",
    "version": 3
   },
   "file_extension": ".py",
   "mimetype": "text/x-python",
   "name": "python",
   "nbconvert_exporter": "python",
   "pygments_lexer": "ipython3",
   "version": "3.7.6"
  }
 },
 "nbformat": 4,
 "nbformat_minor": 2
}
