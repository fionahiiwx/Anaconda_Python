{
 "cells": [
  {
   "cell_type": "code",
   "execution_count": null,
   "metadata": {},
   "outputs": [],
   "source": [
    "# a pelindrome is a string that is identical to read from left to right and from right to left.\n",
    "# For example, \"racecar\" and \"0110\" are pelindromes\n",
    "# A string is called a k-pelindrom if it s a pelindrome and also each character is either 0, 1,... or k-1 for sum //2 leq 10\n",
    "# for example \"302203\" is a 4-pelindrome, 5-pelindrome, 6-pelindrome and so on\n",
    "# but it is not a 2-pelindrome and also 3-pelindrome\n",
    "# Fiona came a crossed a book title k for sum // leq k // leq 10.\n",
    "# it has an infinite margin and consist of all possible k-pelindrome.\n",
    "# The book arranges the pelindromes in a list in the following fashion.\n",
    "# 1. If 2 strings are diff in length, the shorter one goes first.\n",
    "# 2. If there are the same in length, the lexicographically smaller string goes first, like in dictionaries.\n",
    "# For example, the first 10 word in book 2 will be: \n",
    "# 0\n",
    "# 1\n",
    "# 0\n",
    "# 11\n",
    "# 000\n",
    "# 010\n",
    "# 101\n",
    "# 111\n",
    "# 0000\n",
    "# 0110\n",
    "# Fiona wonders what is n-th string in the book.\n",
    "# Can u help her out?\n",
    "# input:\n",
    "# you'll be given 2 numbers, n and k, the position (1-index) of the word Fiona is interested in and the title of the book.\n",
    "# output:\n",
    "# output the n-th string in the book\n",
    "\n",
    "# input:\n",
    "# 7 3\n",
    "# output:\n",
    "# 000"
   ]
  },
  {
   "cell_type": "code",
   "execution_count": null,
   "metadata": {},
   "outputs": [],
   "source": [
    "# Programme to check if a string is palindrome or not.\n",
    "my_str = 'aIbohPhoBiA'\n",
    "a = my_str.lower()\n",
    "\n",
    "#palindrome (String) using inbuilt method\n",
    "if a == a[::-1]:\n",
    "    print('It is a palindrome')\n",
    "else:\n",
    "    print('It is not a palindrome')"
   ]
  },
  {
   "cell_type": "code",
   "execution_count": null,
   "metadata": {},
   "outputs": [],
   "source": [
    "x = 'aibohphobia'\n",
    "y = ''\n",
    "for a in reversed(x):\n",
    "    y += a\n",
    "if x == y:\n",
    "    print('It is a palindrome')\n",
    "else:\n",
    "    print('It is not a palindrome')"
   ]
  },
  {
   "cell_type": "code",
   "execution_count": null,
   "metadata": {},
   "outputs": [],
   "source": [
    "x = 'aibohphobia'\n",
    "y = ''\n",
    "\n",
    "#1st -function which return reverse of a string\n",
    "def reverseStr(x):\n",
    "    return x[::-1]\n",
    "\n",
    "#2nd - calling reverse function AND checking if both strings are equal or not\n",
    "def checking(x):\n",
    "    rev = reverseStr(x)\n",
    "    if (x == rev):\n",
    "        return True\n",
    "    return False\n",
    "\n",
    "#using if/else\n",
    "if checking(x) == 1:\n",
    "    print(\"It's a palindrome\")\n",
    "else:\n",
    "    print(\"It's not a palindrome\")"
   ]
  },
  {
   "cell_type": "code",
   "execution_count": null,
   "metadata": {},
   "outputs": [],
   "source": [
    "# Create a function to check if it's a palindrome or not\n",
    "x = 'aibohphobia'\n",
    "\n",
    "def palindrome(str):\n",
    "    # run loop from 0 to len/2\n",
    "    for i in range((len(str)/2)):\n",
    "        if str[i] != "
   ]
  },
  {
   "cell_type": "code",
   "execution_count": null,
   "metadata": {},
   "outputs": [],
   "source": [
    "x = 'aibohphobia'\n",
    "y = ''\n",
    "\n",
    "for i in x:\n",
    "    y"
   ]
  },
  {
   "cell_type": "code",
   "execution_count": null,
   "metadata": {},
   "outputs": [],
   "source": [
    "# Palindrome using while loop (while, %)\n",
    "# output: 121\n",
    "u_i = int(input('enter num: '))\n",
    "temp = u_i\n",
    "rev = 0\n",
    "\n",
    "while (u_i > 0):\n",
    "    dig = u_i % 10\n",
    "    rev = rev * 10 + dig\n",
    "    u_i = u_i // 10\n",
    "if(temp == rev):\n",
    "    print(\"The number is a palindrome\")\n",
    "else:\n",
    "    print(\"The number isn't a palindrome\")"
   ]
  },
  {
   "cell_type": "code",
   "execution_count": null,
   "metadata": {},
   "outputs": [],
   "source": [
    "# Reverse a given number\n",
    "# Palindrome using while loop (while, %)\n",
    "\n",
    "u_i = int(input('enter num: '))\n",
    "rev = 0\n",
    "\n",
    "while (u_i > 0):\n",
    "    dig = u_i % 10\n",
    "    rev = rev * 10 + dig\n",
    "    u_i = u_i // 10\n",
    "print(\"Reverse of the number:\", rev)"
   ]
  },
  {
   "cell_type": "code",
   "execution_count": null,
   "metadata": {},
   "outputs": [],
   "source": [
    "# Sum of digits in a number\n",
    "num = int(input('enter num: '))\n",
    "rev = 0\n",
    "sums = 0\n",
    "while num > 0:\n",
    "    dig = num % 10\n",
    "    sums += dig\n",
    "    rev = rev * 10 + dig\n",
    "    num = num // 10\n",
    "print(\"Sum of the number: \", sums)"
   ]
  },
  {
   "cell_type": "code",
   "execution_count": null,
   "metadata": {},
   "outputs": [],
   "source": []
  },
  {
   "cell_type": "code",
   "execution_count": null,
   "metadata": {},
   "outputs": [],
   "source": [
    "u_i = input('enter: ')\n",
    "x = int(u_i)\n",
    "\n",
    "if u_i == str(u_i[::-1]):\n",
    "    print(\"It's a palindrome\")\n",
    "else:\n",
    "    print(\"It's not a palindrome\")"
   ]
  },
  {
   "cell_type": "code",
   "execution_count": null,
   "metadata": {},
   "outputs": [],
   "source": [
    "u_i = input('enter: ')\n",
    "\n",
    "try:\n",
    "    x = int(u_i)\n",
    "    if u_i == str(u_i[::-1]):\n",
    "        print(\"It's a palindrome\")\n",
    "    else:\n",
    "        print(\"It's not a palindrome\")\n",
    "except ValueError:\n",
    "    print(\"That's not a valid input, try again\")"
   ]
  },
  {
   "cell_type": "code",
   "execution_count": null,
   "metadata": {},
   "outputs": [],
   "source": [
    "def divide(a, b):\n",
    "    try: \n",
    "        # Flow division only give fractional part of the answer\n",
    "        result = a // b\n",
    "        print(\"correct, your answer is\", result)\n",
    "    except ZeroDivisionError:\n",
    "        print(\"Sorry you are dividing by zero\")\n",
    "divide(3, 2)"
   ]
  },
  {
   "cell_type": "code",
   "execution_count": null,
   "metadata": {},
   "outputs": [],
   "source": [
    "def divide(a, b):\n",
    "    try: \n",
    "        # Flow division only give fractional part of the answer\n",
    "        result = a // b\n",
    "        print(\"correct, your answer is\", result)\n",
    "    except ZeroDivisionError:\n",
    "        print(\"Sorry you are dividing by zero\")\n",
    "divide(3, 0)"
   ]
  },
  {
   "cell_type": "code",
   "execution_count": null,
   "metadata": {},
   "outputs": [],
   "source": [
    "# Print s list of integers from S to E, and replace the integer with string \"P!\" if it's a palindrome"
   ]
  },
  {
   "cell_type": "code",
   "execution_count": null,
   "metadata": {},
   "outputs": [],
   "source": [
    "# Task 1 has the limits of S = E and 1 <= E, E <= 9.\n",
    "# Since all num from 1 to 9 are palindromic, and S = E, the solution is to simply print \"P!\"\n",
    "S = int(input('any num from 1-9: '))\n",
    "E = 1, 2, 3, 4, 5, 6, 7, 8, 9\n",
    "\n",
    "if S in E:\n",
    "    print(\"P!\")"
   ]
  },
  {
   "cell_type": "code",
   "execution_count": null,
   "metadata": {},
   "outputs": [],
   "source": [
    "# Task 2 has the limits of 1 <= S, E <= 9.\n",
    "# This is an extension of task 1, and requires you to know how to use a loop to print E - S + 1 lines with \"P!\" on each line\n"
   ]
  },
  {
   "cell_type": "code",
   "execution_count": null,
   "metadata": {},
   "outputs": [],
   "source": [
    "# Task 3 has the limits of 1 <= S, P <= 100\n",
    "# Since the num of palindromes less than 100 is quite limited, it's possible for u to check each num between S and E\n",
    "# with a manually generated list of palindromic numbers, and print \"P!\" if the value is in the list of palindromic numbers\n"
   ]
  },
  {
   "cell_type": "code",
   "execution_count": null,
   "metadata": {},
   "outputs": [],
   "source": [
    "# String slicing\n",
    "string = 'HiiWanXuan'\n",
    "s1 = slice(3)\n",
    "s2 = slice(1, 5, 2)\n",
    "print(\"String slicing: \")\n",
    "print(string[s1])\n",
    "print(string[s2])"
   ]
  },
  {
   "cell_type": "code",
   "execution_count": null,
   "metadata": {},
   "outputs": [],
   "source": [
    "string = 'HiiWanXuan'\n",
    "s1 = slice(-3)\n",
    "s2 = slice(-1, -5, -2)\n",
    "print(\"String slicing: \")\n",
    "print(string[s1])\n",
    "print(string[s2])"
   ]
  },
  {
   "cell_type": "code",
   "execution_count": null,
   "metadata": {},
   "outputs": [],
   "source": [
    "# List Slicing\n",
    "lists = [1, 2, 3, 4, 5, 6, 7, 8, 9]\n",
    "s1 = slice(3)\n",
    "s2 = slice(1, 5, 2)\n",
    "print(\"Lists slicing: \")\n",
    "print(lists[s1])\n",
    "print(lists[s2])"
   ]
  },
  {
   "cell_type": "code",
   "execution_count": null,
   "metadata": {},
   "outputs": [],
   "source": [
    "lists = [1, 2, 3, 4, 5, 6, 7, 8, 9]\n",
    "s1 = slice(-3)\n",
    "s2 = slice(-1, -5, -2)\n",
    "print(\"Lists slicing: \")\n",
    "print(lists[s1])\n",
    "print(lists[s2])"
   ]
  },
  {
   "cell_type": "code",
   "execution_count": null,
   "metadata": {},
   "outputs": [],
   "source": [
    "# Tuple Slicing\n",
    "tuples = (1, 2, 3, 4, 5, 6, 7, 8, 9)\n",
    "s1 = slice(3)\n",
    "s2 = slice(1, 5, 2)\n",
    "print(\"Tuples slicing: \")\n",
    "print(tuples[s1])\n",
    "print(tuples[s2])"
   ]
  },
  {
   "cell_type": "code",
   "execution_count": null,
   "metadata": {},
   "outputs": [],
   "source": [
    "tuples = (1, 2, 3, 4, 5, 6, 7, 8, 9)\n",
    "s1 = slice(-3)\n",
    "s2 = slice(-1, -5, -2)\n",
    "print(\"Tuples slicing: \")\n",
    "print(tuples[s1])\n",
    "print(tuples[s2])"
   ]
  },
  {
   "cell_type": "code",
   "execution_count": null,
   "metadata": {},
   "outputs": [],
   "source": [
    "dict = {1: \"Fiona\", 2: \"Meagan\", 3: \"Ling\"}\n",
    "print(\"1:\", dict[1])\n",
    "print(\"2:\", dict[2])\n",
    "print(\"3:\", dict[3])"
   ]
  },
  {
   "cell_type": "code",
   "execution_count": 2,
   "metadata": {},
   "outputs": [
    {
     "name": "stdout",
     "output_type": "stream",
     "text": [
      "\n",
      "Dictionary with the use of dict():\n",
      "{1: 'Fiona', 2: 'Meagan', 3: 'Ling'}\n"
     ]
    }
   ],
   "source": [
    "# dictionary with the use of dict():\n",
    "# {1: \"Fiona\", 2: \"Meagan\", 3: \"Ling\"}\n",
    "Dict = dict({1: \"Fiona\", 2: \"Meagan\", 3: \"Ling\"})\n",
    "\n",
    "print(\"\\nDictionary with the use of dict():\")\n",
    "print(Dict)"
   ]
  },
  {
   "cell_type": "code",
   "execution_count": 1,
   "metadata": {},
   "outputs": [
    {
     "name": "stdout",
     "output_type": "stream",
     "text": [
      "\n",
      "Dictionary with the use of dict(): \n",
      "{1: 'fiona', 2: 'meagan', 3: 'ling'}\n"
     ]
    }
   ],
   "source": [
    "Dict = dict({1: 'fiona', 2: 'meagan', 3:'ling'}) \n",
    "print(\"\\nDictionary with the use of dict(): \") \n",
    "print(Dict) "
   ]
  },
  {
   "cell_type": "code",
   "execution_count": null,
   "metadata": {},
   "outputs": [],
   "source": []
  },
  {
   "cell_type": "code",
   "execution_count": null,
   "metadata": {},
   "outputs": [],
   "source": []
  }
 ],
 "metadata": {
  "kernelspec": {
   "display_name": "Python 3",
   "language": "python",
   "name": "python3"
  },
  "language_info": {
   "codemirror_mode": {
    "name": "ipython",
    "version": 3
   },
   "file_extension": ".py",
   "mimetype": "text/x-python",
   "name": "python",
   "nbconvert_exporter": "python",
   "pygments_lexer": "ipython3",
   "version": "3.7.3"
  }
 },
 "nbformat": 4,
 "nbformat_minor": 2
}
