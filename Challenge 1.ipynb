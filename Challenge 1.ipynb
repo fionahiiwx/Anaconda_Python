{
 "cells": [
  {
   "cell_type": "code",
   "execution_count": 1,
   "metadata": {},
   "outputs": [
    {
     "name": "stdout",
     "output_type": "stream",
     "text": [
      "[]\n"
     ]
    }
   ],
   "source": [
    "def four_Sum(nums, target):\n",
    "    nums.sort()\n",
    "    result = []\n",
    "    for i in range(len(nums) - 3):\n",
    "        if i == nums[i-1] and nums[i] == nums[i-1]:\n",
    "            continue\n",
    "            for j in range(i + 1, len(nums)-2):\n",
    "                if j!= i+1 and nums[j] == nums[j-1]:\n",
    "                    sum = target - nums[i] - nums[j]\n",
    "                    left, right = j+1, len(nums)-1\n",
    "                    continue\n",
    "                while left < right: ## not using if\n",
    "                    if nums[left] + nums[right] == sum:\n",
    "                        result.append([nums[i], nums[j], nums[left], nums[right]])\n",
    "                        right -= 1\n",
    "                        left += 1\n",
    "                        while left < right and nums[left] == nums[left-1]: ## not sure\n",
    "                            left += 1\n",
    "                        if not left < right and nums[left] == nums[left-1]:\n",
    "                            while left < right and nums[right] == nums[right + 1]:\n",
    "                                right -= 1\n",
    "                    else:\n",
    "                        if (nums[left] + nums[right]) > sum:\n",
    "                            right -= 1\n",
    "                        else:\n",
    "                            left += 1\n",
    "        return result\n",
    "                            \n",
    "print(four_Sum([1, 0, -1, 0, -2, 2], 0))"
   ]
  },
  {
   "cell_type": "code",
   "execution_count": 2,
   "metadata": {},
   "outputs": [
    {
     "name": "stdout",
     "output_type": "stream",
     "text": [
      "current letter: F\n",
      "current letter: i\n",
      "current letter: n\n",
      "current letter: a\n"
     ]
    }
   ],
   "source": [
    "for letter in (\"Fiona\"):\n",
    "    if letter == \"o\":\n",
    "        continue\n",
    "    print(\"current letter:\", letter)"
   ]
  },
  {
   "cell_type": "code",
   "execution_count": 3,
   "metadata": {},
   "outputs": [
    {
     "name": "stdout",
     "output_type": "stream",
     "text": [
      "Current value: 19\n",
      "Current value: 18\n",
      "Current value: 17\n",
      "Current value: 16\n",
      "Current value: 15\n",
      "Current value: 14\n",
      "Current value: 13\n",
      "Current value: 12\n",
      "Current value: 11\n",
      "Current value: 10\n",
      "Current value: 9\n",
      "Current value: 8\n",
      "Current value: 6\n",
      "Current value: 5\n",
      "Current value: 4\n",
      "Current value: 3\n",
      "Current value: 2\n",
      "Current value: 1\n",
      "Current value: 0\n",
      "The end, goodbye\n"
     ]
    }
   ],
   "source": [
    "Var_num = 20\n",
    "while Var_num > 0:\n",
    "    Var_num -= 1\n",
    "    if Var_num == 7:\n",
    "        continue\n",
    "    print(\"Current value:\", Var_num)\n",
    "print(\"The end, goodbye\")"
   ]
  },
  {
   "cell_type": "code",
   "execution_count": 4,
   "metadata": {},
   "outputs": [
    {
     "name": "stdout",
     "output_type": "stream",
     "text": [
      "[[-2, -1, 1, 2], [-2, 0, 0, 2], [-1, 0, 0, 1]]\n"
     ]
    }
   ],
   "source": [
    "def four_Sum(nums, target):\n",
    "    nums.sort()\n",
    "    result = []\n",
    "    for i in range(len(nums) - 3):\n",
    "        if i and nums[i] == nums[i - 1]:\n",
    "            continue\n",
    "        for j in range(i + 1, len(nums) - 2):\n",
    "            if j != i + 1 and nums[j] == nums[j - 1]:\n",
    "                continue\n",
    "            sum = target - nums[i] - nums[j]\n",
    "            left, right = j + 1, len(nums) - 1\n",
    "            while left < right:\n",
    "                if nums[left] + nums[right] == sum:\n",
    "                    result.append([nums[i], nums[j], nums[left], nums[right]])\n",
    "                    right -= 1\n",
    "                    left += 1\n",
    "                    while left < right and nums[left] == nums[left - 1]:\n",
    "                        left +=1\n",
    "                    while left < right and nums[right] == nums[right + 1]:\n",
    "                        right -= 1\n",
    "                elif nums[left] + nums[right] > sum:\n",
    "                    right -= 1\n",
    "                else:\n",
    "                    left += 1\n",
    "    return result\n",
    "\n",
    "\n",
    "print(four_Sum([1, 0, -1, 0, -2, 2], 0))"
   ]
  },
  {
   "cell_type": "code",
   "execution_count": null,
   "metadata": {},
   "outputs": [],
   "source": []
  }
 ],
 "metadata": {
  "kernelspec": {
   "display_name": "Python 3",
   "language": "python",
   "name": "python3"
  },
  "language_info": {
   "codemirror_mode": {
    "name": "ipython",
    "version": 3
   },
   "file_extension": ".py",
   "mimetype": "text/x-python",
   "name": "python",
   "nbconvert_exporter": "python",
   "pygments_lexer": "ipython3",
   "version": "3.7.6"
  }
 },
 "nbformat": 4,
 "nbformat_minor": 4
}
