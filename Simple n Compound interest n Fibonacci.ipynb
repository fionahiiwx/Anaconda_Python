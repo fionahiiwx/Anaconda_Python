{
 "cells": [
  {
   "cell_type": "code",
   "execution_count": 1,
   "metadata": {},
   "outputs": [
    {
     "name": "stdout",
     "output_type": "stream",
     "text": [
      "1750.0\n"
     ]
    }
   ],
   "source": [
    "# Q1\n",
    "# Simple interest formula is given by \n",
    "# simple interest = (P * T * R) / 100\n",
    "P = 10000\n",
    "R = 3.5\n",
    "T = 5\n",
    "simpleInterest = (P * T * R) / 100\n",
    "print(simpleInterest)"
   ]
  },
  {
   "cell_type": "code",
   "execution_count": 4,
   "metadata": {},
   "outputs": [
    {
     "name": "stdout",
     "output_type": "stream",
     "text": [
      "11876.863056468745\n"
     ]
    }
   ],
   "source": [
    "# Q2\n",
    "# Compound interest\n",
    "P = 10000\n",
    "R = 3.5\n",
    "T = 5\n",
    "def compoundInterest(p, r, t):\n",
    "    return (p * ((r+100)/100) ** t)\n",
    "print(compoundInterest(P, R, T))"
   ]
  },
  {
   "cell_type": "code",
   "execution_count": 7,
   "metadata": {},
   "outputs": [
    {
     "name": "stdout",
     "output_type": "stream",
     "text": [
      "11876.863056468745\n"
     ]
    }
   ],
   "source": [
    "def compoundInterest(principle, rate, time):\n",
    "    ci = principle * (1 + (rate/100)) ** time\n",
    "    print(ci)\n",
    "compoundInterest(10000, 3.5, 5)    "
   ]
  },
  {
   "cell_type": "code",
   "execution_count": 16,
   "metadata": {},
   "outputs": [
    {
     "name": "stdout",
     "output_type": "stream",
     "text": [
      "1 is a Fibonacci Number\n",
      "2 is a Fibonacci Number\n",
      "3 is a Fibonacci Number\n",
      "4 is not a Fibonacci Number\n",
      "5 is a Fibonacci Number\n",
      "6 is not a Fibonacci Number\n",
      "7 is not a Fibonacci Number\n",
      "8 is a Fibonacci Number\n",
      "9 is not a Fibonacci Number\n",
      "10 is not a Fibonacci Number\n"
     ]
    }
   ],
   "source": [
    "# Q3\n",
    "# First few fibonacci numbers are 0, 1, 1, 2, 3, 5, 8, 13, 21, 34, 55, 89, 144 \n",
    "# Sample output: 1 is a Fibonacci Number\n",
    "# Sample output: 2 is a Fibonacci Number\n",
    "# Sample output: 3 is a Fibonacci Number\n",
    "# Sample output: 4 is not Fibonacci Number\n",
    "# Sample output: 5 is a Fibonacci Number\n",
    "# Sample output: 6 is not a Fibonacci Number\n",
    "# Sample output: 7 is not a Fibonacci Number\n",
    "# Sample output: 8 is a Fibonacci Number\n",
    "# Sample output: 9 is not a Fibonacci Number\n",
    "# Sample output: 10 is not a Fibonacci Number\n",
    "\n",
    "import math\n",
    "# Create a utility function that returns True if x is perfect square\n",
    "# Returns True if n is a fibonacci number\n",
    "# To test the above functions, use for in and if and else\n",
    "\n",
    "def perfectSquare(x):\n",
    "    a = int(math.sqrt(x))\n",
    "    return a * a == x\n",
    "\n",
    "def fibonacci(n):\n",
    "    return perfectSquare(5*(n**2)+4) or perfectSquare(5*(n**2)-4)\n",
    "\n",
    "for i in range(1, 11):\n",
    "    if fibonacci(i) == True:\n",
    "        print(i, \"is a Fibonacci Number\")\n",
    "    else:\n",
    "        print(i, \"is not a Fibonacci Number\")"
   ]
  },
  {
   "cell_type": "code",
   "execution_count": null,
   "metadata": {},
   "outputs": [],
   "source": []
  }
 ],
 "metadata": {
  "kernelspec": {
   "display_name": "Python 3",
   "language": "python",
   "name": "python3"
  },
  "language_info": {
   "codemirror_mode": {
    "name": "ipython",
    "version": 3
   },
   "file_extension": ".py",
   "mimetype": "text/x-python",
   "name": "python",
   "nbconvert_exporter": "python",
   "pygments_lexer": "ipython3",
   "version": "3.7.3"
  }
 },
 "nbformat": 4,
 "nbformat_minor": 2
}
