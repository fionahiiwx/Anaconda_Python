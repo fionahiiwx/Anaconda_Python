{
 "cells": [
  {
   "cell_type": "code",
   "execution_count": 32,
   "metadata": {},
   "outputs": [
    {
     "name": "stdout",
     "output_type": "stream",
     "text": [
      "1\n",
      "even\n",
      "eo:  1\n",
      "odd\n",
      "eo:  0\n",
      "count:  2\n",
      "2\n",
      "final: 2\n"
     ]
    }
   ],
   "source": [
    "# Initial queue: 1 2 3 4 5* 6 7 8...\n",
    "# Queue after round 1 ['even' shouted]: 1 3 5* 7 9 11...\n",
    "# Queue after round 2 ['even' shouted]: 1 5* 9 13 17 21...\n",
    "# Queue after round 3 ['odd' shouted]: 5* 13 21...\n",
    "\n",
    "shout = ['even', 'odd', 'odd']\n",
    "n = 1\n",
    "eo = 1\n",
    "count = 0\n",
    "\n",
    "for x in range(1, 20):\n",
    "    n = x\n",
    "    print(n)\n",
    "    if x%2 == 0:\n",
    "        eo = 0\n",
    "    if count < 3:        \n",
    "        count = 0\n",
    "        for s in range(0, len(shout)-1):\n",
    "            print(shout[s])\n",
    "            print('eo: ', eo)\n",
    "            if shout[s] == 'even':\n",
    "                if eo == 0:\n",
    "                    eo += 1\n",
    "                    break\n",
    "                else:\n",
    "                    eo -= 1\n",
    "                    count += 1\n",
    "            else:\n",
    "                if eo == 1:\n",
    "                    eo -= 1\n",
    "                    break\n",
    "                else:\n",
    "                    eo += 1\n",
    "                    count += 1\n",
    "        print('count: ', count)\n",
    "        if shout[-1] == 'odd':\n",
    "            if eo == 1:\n",
    "                count += 1\n",
    "    else:\n",
    "        break\n",
    "\n",
    "print('final:', n)"
   ]
  },
  {
   "cell_type": "code",
   "execution_count": null,
   "metadata": {},
   "outputs": [],
   "source": []
  }
 ],
 "metadata": {
  "kernelspec": {
   "display_name": "Python 3",
   "language": "python",
   "name": "python3"
  },
  "language_info": {
   "codemirror_mode": {
    "name": "ipython",
    "version": 3
   },
   "file_extension": ".py",
   "mimetype": "text/x-python",
   "name": "python",
   "nbconvert_exporter": "python",
   "pygments_lexer": "ipython3",
   "version": "3.7.3"
  }
 },
 "nbformat": 4,
 "nbformat_minor": 2
}
